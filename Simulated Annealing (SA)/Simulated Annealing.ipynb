{
 "cells": [
  {
   "cell_type": "code",
   "execution_count": 1,
   "id": "cc189296-e44c-4ab8-abf0-e03f5ebdcd86",
   "metadata": {},
   "outputs": [],
   "source": [
    "import math, random\n",
    "import numpy as np"
   ]
  },
  {
   "cell_type": "code",
   "execution_count": 2,
   "id": "dada305d-1428-43d4-98e0-bb15221a6246",
   "metadata": {},
   "outputs": [],
   "source": [
    "# Simulated Annealing Algorithm\n",
    "def simulated_annealing(obj_func, initial_solution, initial_temperature, cooling_rate, num_iterations):\n",
    "    current_solution = initial_solution\n",
    "    current_energy = obj_func(current_solution)\n",
    "    best_solution = current_solution\n",
    "    best_energy = current_energy\n",
    "\n",
    "    for i in range(num_iterations):\n",
    "        # Generate a new solution by perturbing the current solution\n",
    "        new_solution = current_solution + random.uniform(-0.1, 0.1)\n",
    "        new_energy = obj_func(new_solution)\n",
    "\n",
    "        # If the new solution is better, accept it\n",
    "        if new_energy < current_energy:\n",
    "            current_solution = new_solution\n",
    "            current_energy = new_energy\n",
    "            if new_energy < best_energy:\n",
    "                best_solution = new_solution\n",
    "                best_energy = new_energy\n",
    "        else:\n",
    "            # If the new solution is worse, accept it with a probability\n",
    "            probability = math.exp(-(new_energy - current_energy) / initial_temperature)\n",
    "            if random.random() < probability:\n",
    "                current_solution = new_solution\n",
    "                current_energy = new_energy\n",
    "\n",
    "        # Reduce the temperature\n",
    "        initial_temperature *= cooling_rate\n",
    "\n",
    "    return best_solution, best_energy\n",
    "    "
   ]
  },
  {
   "cell_type": "code",
   "execution_count": 3,
   "id": "4638dc34-fede-4b99-8a72-98e388c36f00",
   "metadata": {},
   "outputs": [
    {
     "name": "stdout",
     "output_type": "stream",
     "text": [
      "Best solution: 0.0005924525705091888\n",
      "Objective function value at best solution: 3.5100004830294527e-07\n"
     ]
    }
   ],
   "source": [
    "# Example usage\n",
    "initial_solution = 15\n",
    "initial_temperature = 10.0\n",
    "cooling_rate = 0.95\n",
    "num_iterations = 1000\n",
    "\n",
    "def sphere_function(x):\n",
    "    return np.sum(x**2)\n",
    "\n",
    "best_solution, best_energy = simulated_annealing(sphere_function, initial_solution, initial_temperature, cooling_rate, num_iterations)\n",
    "\n",
    "print(\"Best solution:\", best_solution)\n",
    "print(\"Objective function value at best solution:\", best_energy)"
   ]
  }
 ],
 "metadata": {
  "kernelspec": {
   "display_name": "Python 3 (ipykernel)",
   "language": "python",
   "name": "python3"
  },
  "language_info": {
   "codemirror_mode": {
    "name": "ipython",
    "version": 3
   },
   "file_extension": ".py",
   "mimetype": "text/x-python",
   "name": "python",
   "nbconvert_exporter": "python",
   "pygments_lexer": "ipython3",
   "version": "3.12.2"
  }
 },
 "nbformat": 4,
 "nbformat_minor": 5
}
