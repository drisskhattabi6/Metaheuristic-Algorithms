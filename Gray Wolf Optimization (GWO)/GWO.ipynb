{
 "cells": [
  {
   "cell_type": "code",
   "execution_count": 1,
   "id": "13bf6b20-e490-4f9d-bfe0-e0ba38555c0f",
   "metadata": {},
   "outputs": [],
   "source": [
    "# libraries\n",
    "import numpy as np"
   ]
  },
  {
   "cell_type": "code",
   "execution_count": 2,
   "id": "8b8eada8-0cf5-4080-8c87-58177beb4204",
   "metadata": {},
   "outputs": [],
   "source": [
    "\n",
    "class GreyWolfOptimizer:\n",
    "    def __init__(self, objective_function, num_dimensions, population_size=50, max_iterations=100):\n",
    "        self.objective_function = objective_function\n",
    "        self.num_dimensions = num_dimensions\n",
    "        self.population_size = population_size\n",
    "        self.max_iterations = max_iterations\n",
    "\n",
    "    def initialize_population(self):\n",
    "        return np.random.uniform(low=-10, high=10, size=(self.population_size, self.num_dimensions))\n",
    "\n",
    "    def optimize(self):\n",
    "        # Initialize the population of grey wolves\n",
    "        population = self.initialize_population()\n",
    "        \n",
    "        # Iterate through a specified number of iterations\n",
    "        for iteration in range(self.max_iterations):\n",
    "            # Get the alpha, beta, and delta wolves\n",
    "            alpha, beta, delta = self.get_alpha_beta_delta(population)\n",
    "            \n",
    "            # Generate random values for updating the positions\n",
    "            a, A = 2 * (2 * np.random.rand() - 1), 2 * np.random.rand()\n",
    "            \n",
    "            # Update the position of each grey wolf in the population\n",
    "            for i in range(self.population_size):\n",
    "                # Calculate distances to alpha, beta, and delta wolves\n",
    "                D_alpha = np.abs(A * alpha - population[i])\n",
    "                D_beta = np.abs(A * beta - population[i])\n",
    "                D_delta = np.abs(A * delta - population[i])\n",
    "                \n",
    "                # Update positions based on distances and random values\n",
    "                X1 = alpha - a * D_alpha\n",
    "                X2 = beta - a * D_beta\n",
    "                X3 = delta - a * D_delta\n",
    "                population[i] = (X1 + X2 + X3) / 3\n",
    "            \n",
    "            # Ensure solutions are within bounds\n",
    "            population = np.clip(population, -10, 10)\n",
    "        \n",
    "        # Return the best solution found (alpha wolf)\n",
    "        return alpha\n",
    "\n",
    "    def get_alpha_beta_delta(self, population):\n",
    "        fitness = np.array([self.objective_function(individual) for individual in population])\n",
    "        sorted_indices = np.argsort(fitness)\n",
    "        return population[sorted_indices[0]], population[sorted_indices[1]], population[sorted_indices[2]]\n"
   ]
  },
  {
   "cell_type": "code",
   "execution_count": 3,
   "id": "3c78f7f8-0192-4387-9d5c-8514eb30f097",
   "metadata": {},
   "outputs": [
    {
     "name": "stdout",
     "output_type": "stream",
     "text": [
      "Best solution found: [1.46469898e-10 1.46469898e-10 1.72672502e-08 1.46469898e-10\n",
      " 1.46469898e-10]\n",
      "Objective function value: 2.9824374296680657e-16\n"
     ]
    }
   ],
   "source": [
    "# Example usage\n",
    "def sphere_function(x):\n",
    "    return np.sum(x**2)\n",
    "\n",
    "optimizer = GreyWolfOptimizer(objective_function=sphere_function, num_dimensions=5, population_size=100, max_iterations=200)\n",
    "best_solution = optimizer.optimize()\n",
    "print(\"Best solution found:\", best_solution)\n",
    "print(\"Objective function value:\", sphere_function(best_solution))"
   ]
  },
  {
   "cell_type": "code",
   "execution_count": 4,
   "id": "e5b5a697-68f0-4ef3-8bb7-73ba35140d1c",
   "metadata": {},
   "outputs": [
    {
     "name": "stdout",
     "output_type": "stream",
     "text": [
      "Best solution found: [0.08076259 0.08076259 0.08076259 0.08076259 0.08076259]\n",
      "Objective function value: 0.032612982905940904\n"
     ]
    }
   ],
   "source": [
    "# Example usage\n",
    "def rosenbrock_function(x, a=1, b=100):\n",
    "    return np.sum(b * (x[1:] - x[:-1]**2)**2 + (a - x[:-1])**2)\n",
    "\n",
    "optimizer = GreyWolfOptimizer(objective_function=rosenbrock_function, num_dimensions=5, population_size=100, max_iterations=200)\n",
    "best_solution = optimizer.optimize()\n",
    "print(\"Best solution found:\", best_solution)\n",
    "print(\"Objective function value:\", sphere_function(best_solution))"
   ]
  }
 ],
 "metadata": {
  "kernelspec": {
   "display_name": "Python 3 (ipykernel)",
   "language": "python",
   "name": "python3"
  },
  "language_info": {
   "codemirror_mode": {
    "name": "ipython",
    "version": 3
   },
   "file_extension": ".py",
   "mimetype": "text/x-python",
   "name": "python",
   "nbconvert_exporter": "python",
   "pygments_lexer": "ipython3",
   "version": "3.12.2"
  }
 },
 "nbformat": 4,
 "nbformat_minor": 5
}
