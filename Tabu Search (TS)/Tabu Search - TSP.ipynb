{
 "cells": [
  {
   "cell_type": "markdown",
   "id": "abf845a3-1d68-4c65-92d7-7e14e3069f14",
   "metadata": {},
   "source": [
    "## solving of TSP using Tabu Search :"
   ]
  },
  {
   "cell_type": "code",
   "execution_count": 1,
   "id": "6a3bfaea-9075-4a7b-9035-6edffbac9b01",
   "metadata": {},
   "outputs": [],
   "source": [
    "# libraries\n",
    "import random"
   ]
  },
  {
   "cell_type": "code",
   "execution_count": 2,
   "id": "9d9ed8be-a0d1-4d7c-907c-6a458df6736f",
   "metadata": {},
   "outputs": [],
   "source": [
    "\n",
    "def generate_random_solution(cities):\n",
    "    return random.sample(cities, len(cities))\n",
    "\n",
    "def calculate_distance(solution, distance_matrix):\n",
    "    total_distance = 0\n",
    "    num_cities = len(solution)\n",
    "    for i in range(num_cities):\n",
    "        total_distance += distance_matrix[solution[i-1]][solution[i]]\n",
    "    return total_distance\n",
    "\n",
    "def generate_neighborhood(solution):\n",
    "    neighborhood = []\n",
    "    for i in range(len(solution)):\n",
    "        for j in range(i + 1, len(solution)):\n",
    "            neighbor = solution.copy()\n",
    "            neighbor[i], neighbor[j] = neighbor[j], neighbor[i]\n",
    "            neighborhood.append(neighbor)\n",
    "    return neighborhood\n",
    "\n",
    "def tabu_search(cities, distance_matrix, num_iterations, tabu_size):\n",
    "    current_solution = generate_random_solution(cities)\n",
    "    best_solution = current_solution.copy()\n",
    "    tabu_list = []\n",
    "\n",
    "    for _ in range(num_iterations):\n",
    "        neighborhood = generate_neighborhood(current_solution)\n",
    "        best_neighbor = None\n",
    "        best_neighbor_distance = float('inf')\n",
    "\n",
    "        for neighbor in neighborhood:\n",
    "            if neighbor not in tabu_list:\n",
    "                distance = calculate_distance(neighbor, distance_matrix)\n",
    "                if distance < best_neighbor_distance:\n",
    "                    best_neighbor = neighbor\n",
    "                    best_neighbor_distance = distance\n",
    "\n",
    "        current_solution = best_neighbor\n",
    "        current_distance = calculate_distance(current_solution, distance_matrix)\n",
    "\n",
    "        if current_distance < calculate_distance(best_solution, distance_matrix):\n",
    "            best_solution = current_solution\n",
    "\n",
    "        tabu_list.append(best_neighbor)\n",
    "        if len(tabu_list) > tabu_size:\n",
    "            tabu_list.pop(0)\n",
    "\n",
    "    return best_solution, calculate_distance(best_solution, distance_matrix)\n"
   ]
  },
  {
   "cell_type": "code",
   "execution_count": 3,
   "id": "dcfbd403-6a64-4226-8b88-7cacd137d80f",
   "metadata": {},
   "outputs": [
    {
     "name": "stdout",
     "output_type": "stream",
     "text": [
      "Best solution: ['G', 'F', 'E', 'D', 'A', 'B', 'C', 'H']\n",
      "Best distance: 16\n"
     ]
    }
   ],
   "source": [
    "# Example usage\n",
    "cities = [\"A\", \"B\", \"C\", \"D\", \"E\", \"F\", \"G\", \"H\"]\n",
    "\n",
    "distance_matrix = {\n",
    "    \"A\": {\"A\": 0, \"B\": 2, \"C\": 3, \"D\": 1, \"E\": 5, \"F\": 8, \"G\": 7, \"H\": 3},\n",
    "    \"B\": {\"A\": 2, \"B\": 0, \"C\": 2, \"D\": 4, \"E\": 6, \"F\": 3, \"G\": 5, \"H\": 7},\n",
    "    \"C\": {\"A\": 3, \"B\": 2, \"C\": 0, \"D\": 3, \"E\": 4, \"F\": 6, \"G\": 8, \"H\": 2},\n",
    "    \"D\": {\"A\": 1, \"B\": 4, \"C\": 3, \"D\": 0, \"E\": 2, \"F\": 7, \"G\": 6, \"H\": 4},\n",
    "    \"E\": {\"A\": 5, \"B\": 6, \"C\": 4, \"D\": 2, \"E\": 0, \"F\": 1, \"G\": 3, \"H\": 6},\n",
    "    \"F\": {\"A\": 8, \"B\": 3, \"C\": 6, \"D\": 7, \"E\": 1, \"F\": 0, \"G\": 2, \"H\": 5},\n",
    "    \"G\": {\"A\": 7, \"B\": 5, \"C\": 8, \"D\": 6, \"E\": 3, \"F\": 2, \"G\": 0, \"H\": 4},\n",
    "    \"H\": {\"A\": 3, \"B\": 7, \"C\": 2, \"D\": 4, \"E\": 6, \"F\": 5, \"G\": 4, \"H\": 0}\n",
    "}\n",
    "\n",
    "num_iterations = 100\n",
    "tabu_size = 5\n",
    "\n",
    "best_solution, best_distance = tabu_search(cities, distance_matrix, num_iterations, tabu_size)\n",
    "print(\"Best solution:\", best_solution)\n",
    "print(\"Best distance:\", best_distance)\n"
   ]
  }
 ],
 "metadata": {
  "kernelspec": {
   "display_name": "Python 3 (ipykernel)",
   "language": "python",
   "name": "python3"
  },
  "language_info": {
   "codemirror_mode": {
    "name": "ipython",
    "version": 3
   },
   "file_extension": ".py",
   "mimetype": "text/x-python",
   "name": "python",
   "nbconvert_exporter": "python",
   "pygments_lexer": "ipython3",
   "version": "3.12.2"
  }
 },
 "nbformat": 4,
 "nbformat_minor": 5
}
