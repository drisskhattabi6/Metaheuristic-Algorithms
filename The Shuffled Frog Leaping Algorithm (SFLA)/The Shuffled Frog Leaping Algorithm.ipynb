{
 "cells": [
  {
   "cell_type": "markdown",
   "id": "11d197a7-6dca-4277-921f-849fe9346830",
   "metadata": {},
   "source": [
    "# Implementation of The Shuffled Frog Leaping Algorithm (SFLA) for Test Functions :"
   ]
  },
  {
   "cell_type": "code",
   "execution_count": 1,
   "id": "cb7f9d5b-15c6-448b-b513-6d9d2a9c65f9",
   "metadata": {},
   "outputs": [],
   "source": [
    "import numpy as np"
   ]
  },
  {
   "cell_type": "code",
   "execution_count": 10,
   "id": "0d03a76d-06a5-4b81-a3b1-9110c5c2569d",
   "metadata": {},
   "outputs": [],
   "source": [
    "def gen_frogs(frogs, dimension):\n",
    "    frogs = np.random.uniform(-5, 5, (frogs, dimension))\n",
    "    # frogs = np.random.randn(frogs, dimension)\n",
    "    return frogs\n",
    "\n",
    "# Sorts the frogs in decending order of fitness and create the memeplexes\n",
    "def sort_frogs(frogs, mplx_no, opt_func):\n",
    "    # Find fitness of each frog\n",
    "    fitness = np.array(list(map(opt_func, frogs)))\n",
    "    # Sort the indices in decending order by fitness\n",
    "    sorted_fitness = np.argsort(fitness)\n",
    "    # Empty holder for memeplexes\n",
    "    memeplexes = np.zeros((mplx_no, int(frogs.shape[0]/mplx_no)))\n",
    "    # Sort into memeplexes\n",
    "    for j in range(memeplexes.shape[1]):\n",
    "        for i in range(mplx_no):\n",
    "            memeplexes[i, j] = sorted_fitness[i+(mplx_no*j)]\n",
    "    return memeplexes\n",
    "\n",
    "#Performs the local search for a memeplex.\n",
    "def local_search(frogs, memeplex, opt_func):\n",
    "\n",
    "    # Select worst, best, greatest frogs\n",
    "    frog_w = frogs[int(memeplex[-1])]\n",
    "    frog_b = frogs[int(memeplex[0])]\n",
    "    frog_g = frogs[0]\n",
    "    # Move worst wrt best frog\n",
    "    frog_w_new = frog_w + (np.random.rand() * (frog_b - frog_w))\n",
    "    # If change not better, move worst wrt greatest frog\n",
    "    if opt_func(frog_w_new) > opt_func(frog_w):\n",
    "        frog_w_new = frog_w + (np.random.rand() * (frog_g - frog_w))\n",
    "    # If change not better, random new worst frog\n",
    "    if opt_func(frog_w_new) > opt_func(frog_w):\n",
    "        frog_w_new = gen_frogs(1, frogs.shape[1])[0]\n",
    "    # Replace worst frog\n",
    "    frogs[int(memeplex[-1])] = frog_w_new\n",
    "    return frogs\n",
    "\n",
    "# Shuffles the memeplexes without sorting them.\n",
    "def shuffle_memeplexes(memeplexes):\n",
    "    # Flatten the array\n",
    "    temp = memeplexes.flatten()\n",
    "    #Shuffle the array\n",
    "    np.random.shuffle(temp)\n",
    "    # Reshape\n",
    "    temp = temp.reshape((memeplexes.shape[0], memeplexes.shape[1]))\n",
    "    return temp\n",
    "\n",
    "# Performs the Shuffled Leaping Frog Algorithm.\n",
    "def sfla(opt_func, frogs=30, dimension=2, mplx_no=5, mplx_iters=10, solun_iters=50):\n",
    "    \"\"\" - opt_func\n",
    "        - frogs {int} : The number of frogs to use \n",
    "        - dimension {int} : The dimension/number of features\n",
    "        - mplx_no {int} : Number of memeplexes, when divides frog number should return an integer otherwise frogs will be skipped\n",
    "        - mplx_iters {int} : Number of times a single memeplex will be iterated before shuffling\n",
    "        - solun_iters {int} : Number of times the memeplexes will be shuffled\n",
    "    \"\"\"\n",
    "    # Generate frogs around the solution\n",
    "    frogs = gen_frogs(frogs, dimension)\n",
    "    # Arrange frogs and sort into memeplexes\n",
    "    memeplexes = sort_frogs(frogs, mplx_no, opt_func)\n",
    "    # Best solution as greatest frog\n",
    "    best_solun = frogs[int(memeplexes[0, 0])]\n",
    "    \n",
    "    # For the number of iterations\n",
    "    for i in range(solun_iters):\n",
    "        # Shuffle memeplexes\n",
    "        memeplexes = shuffle_memeplexes(memeplexes)\n",
    "        \n",
    "        # For each memeplex\n",
    "        for mplx_idx, memeplex in enumerate(memeplexes):\n",
    "            \n",
    "            # For number of memeplex iterations\n",
    "            for j in range(mplx_iters):\n",
    "                # Perform local search\n",
    "                frogs = local_search(frogs, memeplex, opt_func)\n",
    "                \n",
    "            # Rearrange memeplexes\n",
    "            memeplexes = sort_frogs(frogs, mplx_no, opt_func)\n",
    "            # Check and select new best frog as the greatest frog\n",
    "            new_best_solun = frogs[int(memeplexes[0, 0])]\n",
    "            if opt_func(new_best_solun) < opt_func(best_solun):\n",
    "                best_solun = new_best_solun\n",
    "                \n",
    "    return best_solun\n",
    "    # return best_solun, frogs, memeplexes.astype(int)\n"
   ]
  },
  {
   "cell_type": "code",
   "execution_count": null,
   "id": "0ffe8cf6-690b-44eb-8206-122fdcf1095e",
   "metadata": {},
   "outputs": [],
   "source": [
    "def show_plot(x, y, title=\"\", x_label= \"\", y_label=\"\") :\n",
    "    plt.plot(x, y)\n",
    "    plt.title(title)\n",
    "    plt.xlabel(x_label)\n",
    "    plt.ylabel(y_label)\n",
    "    plt.show()"
   ]
  },
  {
   "cell_type": "code",
   "execution_count": 11,
   "id": "1dbb737c-f600-4ef9-991f-3dbd3fcc008c",
   "metadata": {},
   "outputs": [],
   "source": [
    "def rosenbrock_function(x):\n",
    "    a = 1\n",
    "    b = 100\n",
    "    return sum(b * (x[1:] - x[:-1]**2)**2 + (a - x[:-1])**2)\n",
    "\n",
    "def bent_cigar_function(x):\n",
    "    if isinstance(x, list):\n",
    "        x = np.array(x)\n",
    "    return x[0]**2 + 1e6 * np.sum(x[1:]**2)\n",
    "\n",
    "def discus_function(x):\n",
    "    if isinstance(x, list):\n",
    "        x = np.array(x)\n",
    "    return 1e6 * x[0]**2 + np.sum(x[1:]**2)\n",
    "\n",
    "def rastrigin_function(x):\n",
    "    A = 10\n",
    "    return A * len(x) + sum([(xi**2 - A * np.cos(2 * np.pi * xi)) for xi in x])"
   ]
  },
  {
   "cell_type": "code",
   "execution_count": 13,
   "id": "c1d1e7bd-fee4-4a20-90bd-923dd2b235c1",
   "metadata": {},
   "outputs": [
    {
     "name": "stdout",
     "output_type": "stream",
     "text": [
      "Optimal Solution: [-4.04717166e-02  2.47570578e-05]\n",
      "Optimal value : 0.0022508717522394294\n"
     ]
    }
   ],
   "source": [
    "# Run algorithm\n",
    "sol = sfla(bent_cigar_function, 1000, 2, 20, 25, 1000)\n",
    "print(f\"Optimal Solution: {sol}\")\n",
    "print(f\"Optimal value : {bent_cigar_function(sol)}\")"
   ]
  },
  {
   "cell_type": "code",
   "execution_count": 23,
   "id": "1f5d8b74-b765-49b2-95fa-f74a75c3eb1e",
   "metadata": {},
   "outputs": [
    {
     "name": "stdout",
     "output_type": "stream",
     "text": [
      "Optimal Solution: [1.03912991 1.07998375]\n",
      "Optimal value : 0.001534866419944733\n"
     ]
    }
   ],
   "source": [
    "# Run algorithm\n",
    "sol = sfla(rosenbrock_function, 500, 2, 30, 30, 500)\n",
    "print(f\"Optimal Solution: {sol}\")\n",
    "print(f\"Optimal value : {rosenbrock_function(sol)}\")"
   ]
  },
  {
   "cell_type": "code",
   "execution_count": 21,
   "id": "9440ed8c-7f19-445d-b5f1-81a5224b866b",
   "metadata": {},
   "outputs": [
    {
     "name": "stdout",
     "output_type": "stream",
     "text": [
      "Optimal Solution: [1.60155698e-06 7.40650563e-02]\n",
      "Optimal value : 0.005488197549930775\n"
     ]
    }
   ],
   "source": [
    "# Run algorithm\n",
    "sol = sfla(discus_function, 500, 2, 30, 25, 500)\n",
    "print(f\"Optimal Solution: {sol}\")\n",
    "print(f\"Optimal value : {discus_function(sol)}\")"
   ]
  },
  {
   "cell_type": "code",
   "execution_count": 35,
   "id": "cbded802-bae9-4826-93a2-04cdde53d2ba",
   "metadata": {},
   "outputs": [
    {
     "name": "stdout",
     "output_type": "stream",
     "text": [
      "Optimal Solution: [1 0]\n",
      "Optimal value : 1.0\n"
     ]
    }
   ],
   "source": [
    "# Run algorithm\n",
    "sol = sfla(rastrigin_function, 500, 2, 10, 30, 1000)\n",
    "print(f\"Optimal Solution: {sol}\")\n",
    "print(f\"Optimal value : {rastrigin_function(sol)}\")"
   ]
  },
  {
   "cell_type": "markdown",
   "id": "8ae4d359-8ee8-4188-a0a0-648d8a96b475",
   "metadata": {},
   "source": [
    "## SFLA for TSP :"
   ]
  },
  {
   "cell_type": "code",
   "execution_count": 33,
   "id": "adbf1c5f-6753-48c2-b897-a7b3c902cbde",
   "metadata": {},
   "outputs": [
    {
     "name": "stdout",
     "output_type": "stream",
     "text": [
      "Best solution: ['L', 'H', 'B', 'F', 'E', 'G', 'A', 'D', 'C', 'J', 'I', 'K']\n",
      "Best distance: 40\n"
     ]
    }
   ],
   "source": [
    "def gen_frogs(frogs, dimension):\n",
    "    population = []\n",
    "    for _ in range(frogs):\n",
    "        frog = np.random.permutation(dimension)\n",
    "        population.append(frog)\n",
    "    return np.array(population)\n",
    "\n",
    "# Calculate the total distance of a tour\n",
    "def calculate_distance(tour, distance_matrix):\n",
    "    distance = 0\n",
    "    for i in range(len(tour) - 1):\n",
    "        distance += distance_matrix[tour[i]][tour[i + 1]]\n",
    "    distance += distance_matrix[tour[-1]][tour[0]]  # Return to starting city\n",
    "    return distance\n",
    "\n",
    "# Sorts the frogs in descending order of fitness\n",
    "def sort_frogs(frogs, mplx_no, opt_func):\n",
    "    fitness = np.array(list(map(opt_func, frogs)))\n",
    "    sorted_fitness = np.argsort(fitness)\n",
    "    memeplexes = np.zeros((mplx_no, int(frogs.shape[0] / mplx_no)), dtype=int)\n",
    "    for j in range(memeplexes.shape[1]):\n",
    "        for i in range(mplx_no):\n",
    "            memeplexes[i, j] = sorted_fitness[i + (mplx_no * j)]\n",
    "    return memeplexes\n",
    "\n",
    "# Performs the local search for a memeplex\n",
    "def local_search(frogs, memeplex, opt_func):\n",
    "    frog_w = frogs[int(memeplex[-1])]\n",
    "    frog_b = frogs[int(memeplex[0])]\n",
    "    frog_g = frogs[0]\n",
    "\n",
    "    def swap_cities(frog):\n",
    "        new_frog = frog.copy()\n",
    "        i, j = np.random.choice(len(frog), 2, replace=False)\n",
    "        new_frog[i], new_frog[j] = new_frog[j], new_frog[i]\n",
    "        return new_frog\n",
    "\n",
    "    frog_w_new = swap_cities(frog_w)\n",
    "    if opt_func(frog_w_new) > opt_func(frog_w):\n",
    "        frog_w_new = swap_cities(frog_w)\n",
    "    if opt_func(frog_w_new) > opt_func(frog_w):\n",
    "        frog_w_new = gen_frogs(1, len(frog_w))[0]\n",
    "    frogs[int(memeplex[-1])] = frog_w_new\n",
    "    return frogs\n",
    "\n",
    "# Shuffles the memeplexes without sorting them\n",
    "def shuffle_memeplexes(memeplexes):\n",
    "    temp = memeplexes.flatten()\n",
    "    np.random.shuffle(temp)\n",
    "    temp = temp.reshape((memeplexes.shape[0], memeplexes.shape[1]))\n",
    "    return temp\n",
    "\n",
    "# SFLA for TSP\n",
    "def sfla(opt_func, frogs=30, dimension=2, mplx_no=5, mplx_iters=10, solun_iters=50):\n",
    "    frogs = gen_frogs(frogs, dimension)\n",
    "    memeplexes = sort_frogs(frogs, mplx_no, opt_func)\n",
    "    best_solun = frogs[int(memeplexes[0, 0])]\n",
    "    for i in range(solun_iters):\n",
    "        memeplexes = shuffle_memeplexes(memeplexes)\n",
    "        for mplx_idx, memeplex in enumerate(memeplexes):\n",
    "            for j in range(mplx_iters):\n",
    "                frogs = local_search(frogs, memeplex, opt_func)\n",
    "            memeplexes = sort_frogs(frogs, mplx_no, opt_func)\n",
    "            new_best_solun = frogs[int(memeplexes[0, 0])]\n",
    "            if opt_func(new_best_solun) < opt_func(best_solun):\n",
    "                best_solun = new_best_solun\n",
    "    return best_solun\n",
    "\n",
    "# Example usage\n",
    "# Example usage\n",
    "cities = [\"A\", \"B\", \"C\", \"D\", \"E\", \"F\", \"G\", \"H\", \"I\", \"J\", \"K\", \"L\"]\n",
    "\n",
    "distance_matrix = {\n",
    "    \"A\": {\"A\": 0, \"B\": 2, \"C\": 3, \"D\": 1, \"E\": 5, \"F\": 8, \"G\": 7, \"H\": 3, \"I\": 4, \"J\": 6, \"K\": 5, \"L\": 9},\n",
    "    \"B\": {\"A\": 2, \"B\": 0, \"C\": 2, \"D\": 4, \"E\": 6, \"F\": 3, \"G\": 5, \"H\": 7, \"I\": 3, \"J\": 5, \"K\": 8, \"L\": 6},\n",
    "    \"C\": {\"A\": 3, \"B\": 2, \"C\": 0, \"D\": 3, \"E\": 4, \"F\": 6, \"G\": 8, \"H\": 2, \"I\": 5, \"J\": 7, \"K\": 6, \"L\": 4},\n",
    "    \"D\": {\"A\": 1, \"B\": 4, \"C\": 3, \"D\": 0, \"E\": 2, \"F\": 7, \"G\": 6, \"H\": 4, \"I\": 8, \"J\": 6, \"K\": 3, \"L\": 5},\n",
    "    \"E\": {\"A\": 5, \"B\": 6, \"C\": 4, \"D\": 2, \"E\": 0, \"F\": 1, \"G\": 3, \"H\": 6, \"I\": 7, \"J\": 5, \"K\": 4, \"L\": 8},\n",
    "    \"F\": {\"A\": 8, \"B\": 3, \"C\": 6, \"D\": 7, \"E\": 1, \"F\": 0, \"G\": 2, \"H\": 5, \"I\": 4, \"J\": 8, \"K\": 7, \"L\": 6},\n",
    "    \"G\": {\"A\": 7, \"B\": 5, \"C\": 8, \"D\": 6, \"E\": 3, \"F\": 2, \"G\": 0, \"H\": 4, \"I\": 6, \"J\": 3, \"K\": 5, \"L\": 7},\n",
    "    \"H\": {\"A\": 3, \"B\": 7, \"C\": 2, \"D\": 4, \"E\": 6, \"F\": 5, \"G\": 4, \"H\": 0, \"I\": 8, \"J\": 2, \"K\": 7, \"L\": 3},\n",
    "    \"I\": {\"A\": 4, \"B\": 3, \"C\": 5, \"D\": 8, \"E\": 7, \"F\": 4, \"G\": 6, \"H\": 8, \"I\": 0, \"J\": 1, \"K\": 2, \"L\": 5},\n",
    "    \"J\": {\"A\": 6, \"B\": 5, \"C\": 7, \"D\": 6, \"E\": 5, \"F\": 8, \"G\": 3, \"H\": 2, \"I\": 1, \"J\": 0, \"K\": 4, \"L\": 6},\n",
    "    \"K\": {\"A\": 5, \"B\": 8, \"C\": 6, \"D\": 3, \"E\": 4, \"F\": 7, \"G\": 5, \"H\": 7, \"I\": 2, \"J\": 4, \"K\": 0, \"L\": 2},\n",
    "    \"L\": {\"A\": 9, \"B\": 6, \"C\": 4, \"D\": 5, \"E\": 8, \"F\": 6, \"G\": 7, \"H\": 3, \"I\": 5, \"J\": 6, \"K\": 2, \"L\": 0}\n",
    "}\n",
    "\n",
    "distance_matrix = np.array([[distance_matrix[c1][c2] for c2 in cities] for c1 in cities])\n",
    "\n",
    "def tsp_distance(tour):\n",
    "    return calculate_distance(tour, distance_matrix)\n",
    "\n",
    "best_solution= sfla(tsp_distance, frogs=50, dimension=len(cities), mplx_no=3, mplx_iters=15, solun_iters=100)\n",
    "\n",
    "# Convert best_tour_indices to city names\n",
    "best_tour = [cities[idx] for idx in best_solution]\n",
    "\n",
    "print(\"Best solution:\", best_tour)\n",
    "print(\"Best distance:\", tsp_distance(best_solution))\n"
   ]
  }
 ],
 "metadata": {
  "kernelspec": {
   "display_name": "Python 3 (ipykernel)",
   "language": "python",
   "name": "python3"
  },
  "language_info": {
   "codemirror_mode": {
    "name": "ipython",
    "version": 3
   },
   "file_extension": ".py",
   "mimetype": "text/x-python",
   "name": "python",
   "nbconvert_exporter": "python",
   "pygments_lexer": "ipython3",
   "version": "3.12.2"
  }
 },
 "nbformat": 4,
 "nbformat_minor": 5
}
