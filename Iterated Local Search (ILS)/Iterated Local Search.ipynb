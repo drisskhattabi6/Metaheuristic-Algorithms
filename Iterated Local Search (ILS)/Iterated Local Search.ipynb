{
 "cells": [
  {
   "cell_type": "markdown",
   "id": "66c8267a-d957-4ecf-9862-3204790c6358",
   "metadata": {},
   "source": [
    "## Implementation of Iterated Local Search (ILS) for TSP :"
   ]
  },
  {
   "cell_type": "code",
   "execution_count": 1,
   "id": "df06b3e0-ff3e-43e6-ab03-151d914f60c3",
   "metadata": {},
   "outputs": [],
   "source": [
    "import numpy as np\n",
    "import random"
   ]
  },
  {
   "cell_type": "code",
   "execution_count": 2,
   "id": "7fbeabb6-7040-4b79-a666-aaf1311eecd0",
   "metadata": {},
   "outputs": [],
   "source": [
    "# Function to calculate the total distance of a tour\n",
    "def total_distance(tour, distance_matrix):\n",
    "    total = 0\n",
    "    for i in range(len(tour) - 1):\n",
    "        total += distance_matrix[tour[i]][tour[i+1]]\n",
    "    total += distance_matrix[tour[-1]][tour[0]]  # Add distance from last city back to the start\n",
    "    return total\n",
    "\n",
    "# Function to perform 2-opt swap\n",
    "def two_opt_swap(tour, i, j):\n",
    "    new_tour = tour[:i] + tour[i:j+1][::-1] + tour[j+1:]\n",
    "    return new_tour\n",
    "\n",
    "# Function to perform local search using 2-opt\n",
    "def local_search(tour, distance_matrix):\n",
    "    improved = True\n",
    "    best_tour = tour\n",
    "    while improved:\n",
    "        improved = False\n",
    "        for i in range(1, len(tour) - 1):\n",
    "            for j in range(i + 1, len(tour)):\n",
    "                new_tour = two_opt_swap(best_tour, i, j)\n",
    "                new_distance = total_distance(new_tour, distance_matrix)\n",
    "                if new_distance < total_distance(best_tour, distance_matrix):\n",
    "                    best_tour = new_tour\n",
    "                    improved = True\n",
    "                    break\n",
    "            if improved:\n",
    "                break\n",
    "    return best_tour\n",
    "\n",
    "# Function to perform perturbation\n",
    "def perturbation(tour):\n",
    "    # Randomly select two cities and swap them\n",
    "    i, j = random.sample(range(len(tour)), 2)\n",
    "    new_tour = tour[:]\n",
    "    new_tour[i], new_tour[j] = new_tour[j], new_tour[i]\n",
    "    return new_tour\n",
    "\n",
    "# Function to perform Iterated Local Search\n",
    "def iterated_local_search(distance_matrix, max_iterations):\n",
    "    n = len(distance_matrix)\n",
    "    # Initialize with a random tour\n",
    "    current_tour = list(range(n))\n",
    "    random.shuffle(current_tour)\n",
    "    current_distance = total_distance(current_tour, distance_matrix)\n",
    "    \n",
    "    for _ in range(max_iterations):\n",
    "        # Perform local search\n",
    "        improved_tour = local_search(current_tour, distance_matrix)\n",
    "        # Perturb the solution\n",
    "        perturbed_tour = perturbation(improved_tour)\n",
    "        # Perform local search on perturbed solution\n",
    "        perturbed_tour = local_search(perturbed_tour, distance_matrix)\n",
    "        # Accept the perturbed solution if it's better\n",
    "        perturbed_distance = total_distance(perturbed_tour, distance_matrix)\n",
    "        if perturbed_distance < current_distance:\n",
    "            current_tour = perturbed_tour\n",
    "            current_distance = perturbed_distance\n",
    "    return current_tour, current_distance\n"
   ]
  },
  {
   "cell_type": "code",
   "execution_count": 3,
   "id": "22c03c6f-df8f-4db1-a461-20dd958168f5",
   "metadata": {},
   "outputs": [
    {
     "name": "stdout",
     "output_type": "stream",
     "text": [
      "Best tour: ['D', 'J', 'F', 'G', 'B', 'C', 'H', 'I', 'A', 'E']\n",
      "Best distance: 246\n"
     ]
    }
   ],
   "source": [
    "# Example usage\n",
    "# Define a distance matrix with named cities\n",
    "cities = ['A', 'B', 'C', 'D', 'E', 'F', 'G', 'H', 'I', 'J']\n",
    "distance_matrix = np.array([\n",
    "    [0, 29, 20, 21, 16, 31, 100, 12, 4, 31],\n",
    "    [29, 0, 15, 29, 28, 40, 72, 21, 29, 41],\n",
    "    [20, 15, 0, 15, 14, 25, 81, 9, 23, 27],\n",
    "    [21, 29, 15, 0, 4, 12, 92, 12, 25, 13],\n",
    "    [16, 28, 14, 4, 0, 16, 94, 9, 20, 16],\n",
    "    [31, 40, 25, 12, 16, 0, 95, 24, 36, 3],\n",
    "    [100, 72, 81, 92, 94, 95, 0, 90, 101, 99],\n",
    "    [12, 21, 9, 12, 9, 24, 90, 0, 15, 25],\n",
    "    [4, 29, 23, 25, 20, 36, 101, 15, 0, 35],\n",
    "    [31, 41, 27, 13, 16, 3, 99, 25, 35, 0]\n",
    "])\n",
    "\n",
    "# Solve TSP using Iterated Local Search\n",
    "max_iterations = 100\n",
    "best_tour_indices, best_distance = iterated_local_search(distance_matrix, max_iterations)\n",
    "\n",
    "# Convert tour indices to city names\n",
    "best_tour = [cities[i] for i in best_tour_indices]\n",
    "\n",
    "print(\"Best tour:\", best_tour)\n",
    "print(\"Best distance:\", best_distance)\n"
   ]
  }
 ],
 "metadata": {
  "kernelspec": {
   "display_name": "Python 3 (ipykernel)",
   "language": "python",
   "name": "python3"
  },
  "language_info": {
   "codemirror_mode": {
    "name": "ipython",
    "version": 3
   },
   "file_extension": ".py",
   "mimetype": "text/x-python",
   "name": "python",
   "nbconvert_exporter": "python",
   "pygments_lexer": "ipython3",
   "version": "3.12.2"
  }
 },
 "nbformat": 4,
 "nbformat_minor": 5
}
