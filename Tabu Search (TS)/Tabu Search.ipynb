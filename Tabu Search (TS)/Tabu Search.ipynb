{
 "cells": [
  {
   "cell_type": "markdown",
   "id": "c5454ed7-1c1e-4cea-828e-1499a57bbdfb",
   "metadata": {},
   "source": [
    "## Implementation of Tabu Search for single-objective optimization functions :"
   ]
  },
  {
   "cell_type": "code",
   "execution_count": 1,
   "id": "5f3e8490-046e-4b45-b1fe-a02c0ec97934",
   "metadata": {},
   "outputs": [],
   "source": [
    "import random\n",
    "import numpy as np"
   ]
  },
  {
   "cell_type": "code",
   "execution_count": 2,
   "id": "06dae023-7a40-4b73-84da-b43617f5a132",
   "metadata": {},
   "outputs": [],
   "source": [
    "# neighborhood function for continuous variables (the user define this function)\n",
    "def get_neighbors(solution, step_size=0.1, num_neighbors=100):\n",
    "    neighbors = []\n",
    "    for _ in range(num_neighbors):\n",
    "        neighbor = solution + np.random.uniform(-step_size, step_size, len(solution))\n",
    "        neighbors.append(neighbor)\n",
    "    return neighbors\n",
    "\n",
    "# Define the Tabu Search algorithm\n",
    "def tabu_search(objective_function, initial_solution, max_iterations, tabu_list_size):\n",
    "    best_solution = initial_solution\n",
    "    current_solution = initial_solution\n",
    "    tabu_list = []\n",
    "\n",
    "    for _ in range(max_iterations):\n",
    "        neighbors = get_neighbors(current_solution)\n",
    "        best_neighbor = None\n",
    "        best_neighbor_fitness = float('inf')\n",
    "\n",
    "        for neighbor in neighbors:\n",
    "            if not any(np.array_equal(neighbor, tabu) for tabu in tabu_list):\n",
    "                neighbor_fitness = objective_function(neighbor)\n",
    "                if neighbor_fitness < best_neighbor_fitness:\n",
    "                    best_neighbor = neighbor\n",
    "                    best_neighbor_fitness = neighbor_fitness\n",
    "\n",
    "        if best_neighbor is None:\n",
    "            # No non-tabu neighbors found, terminate the search\n",
    "            break\n",
    "\n",
    "        current_solution = best_neighbor\n",
    "        tabu_list.append(best_neighbor)\n",
    "        if len(tabu_list) > tabu_list_size:\n",
    "            # Remove the oldest entry from the tabu list if it exceeds the size\n",
    "            tabu_list.pop(0)\n",
    "\n",
    "        if objective_function(best_neighbor) < objective_function(best_solution):\n",
    "            # Update the best solution if the current neighbor is better\n",
    "            best_solution = best_neighbor\n",
    "\n",
    "    return best_solution\n",
    "    "
   ]
  },
  {
   "cell_type": "code",
   "execution_count": 3,
   "id": "21e4522f-f101-486c-9632-09a79e8b0427",
   "metadata": {},
   "outputs": [
    {
     "name": "stdout",
     "output_type": "stream",
     "text": [
      "Best solution for Sphere function: [ 0.00277557  0.00289792  0.00497317 -0.00148458  0.00807199]\n",
      "Best solution fitness for Sphere function: 0.00010819517798965104\n"
     ]
    }
   ],
   "source": [
    "# Example usage\n",
    "# Provide an initial solution\n",
    "initial_solution = np.random.uniform(-5, 5, 5)  # 5-dimensional problem\n",
    "max_iterations = 1000\n",
    "tabu_list_size = 10\n",
    "\n",
    "# Define the Sphere function\n",
    "def sphere_function(solution):\n",
    "    return sum(x**2 for x in solution)\n",
    "\n",
    "# Run Tabu Search for the Sphere function\n",
    "best_solution_sphere = tabu_search(sphere_function, initial_solution, max_iterations, tabu_list_size)\n",
    "print(\"Best solution for Sphere function: {}\".format(best_solution_sphere))\n",
    "print(\"Best solution fitness for Sphere function: {}\".format(sphere_function(best_solution_sphere)))"
   ]
  },
  {
   "cell_type": "code",
   "execution_count": 10,
   "id": "96a2a5c3-b90c-4131-9d50-5a64ef6dce5e",
   "metadata": {},
   "outputs": [
    {
     "name": "stdout",
     "output_type": "stream",
     "text": [
      "Best solution for Rosenbrock function: [1.00728561 1.00419584 1.00897039 1.01211028 1.01981917]\n",
      "Best solution fitness for Rosenbrock function: 0.016766979646595372\n"
     ]
    }
   ],
   "source": [
    "# Example usage\n",
    "# Provide an initial solution\n",
    "initial_solution = np.random.uniform(-5, 5, 5)  # 5-dimensional problem\n",
    "max_iterations = 1000\n",
    "tabu_list_size = 25\n",
    "\n",
    "# Define the Rosenbrock function\n",
    "def rosenbrock_function(solution):\n",
    "    return sum(100 * (solution[i+1] - solution[i]**2)**2 + (1 - solution[i])**2 for i in range(len(solution)-1))\n",
    "\n",
    "# Run Tabu Search for the Rosenbrock function\n",
    "best_solution_rosenbrock = tabu_search(rosenbrock_function, initial_solution, max_iterations, tabu_list_size)\n",
    "print(\"Best solution for Rosenbrock function: {}\".format(best_solution_rosenbrock))\n",
    "print(\"Best solution fitness for Rosenbrock function: {}\".format(rosenbrock_function(best_solution_rosenbrock)))"
   ]
  }
 ],
 "metadata": {
  "kernelspec": {
   "display_name": "Python 3 (ipykernel)",
   "language": "python",
   "name": "python3"
  },
  "language_info": {
   "codemirror_mode": {
    "name": "ipython",
    "version": 3
   },
   "file_extension": ".py",
   "mimetype": "text/x-python",
   "name": "python",
   "nbconvert_exporter": "python",
   "pygments_lexer": "ipython3",
   "version": "3.12.2"
  }
 },
 "nbformat": 4,
 "nbformat_minor": 5
}
