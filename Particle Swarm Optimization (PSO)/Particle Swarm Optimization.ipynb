{
 "cells": [
  {
   "cell_type": "code",
   "execution_count": 1,
   "id": "9cd1d414-4fbf-4cca-a67b-dc531b7161f7",
   "metadata": {},
   "outputs": [],
   "source": [
    "import numpy as np"
   ]
  },
  {
   "cell_type": "code",
   "execution_count": 2,
   "id": "cfacb8a2-70c6-4ac1-8f3f-813a7948c6db",
   "metadata": {},
   "outputs": [],
   "source": [
    "class Particle:\n",
    "    def __init__(self, dim, bounds):\n",
    "        self.position = np.random.uniform(bounds[:, 0], bounds[:, 1], dim)\n",
    "        self.velocity = np.random.uniform(-0.1, 0.1, dim)\n",
    "        self.best_position = self.position.copy()\n",
    "        self.best_score = float('inf')\n",
    "\n",
    "def update_velocity(particle, global_best_position, w, c1, c2):\n",
    "    inertia = w * particle.velocity\n",
    "    cognitive = c1 * np.random.rand() * (particle.best_position - particle.position)\n",
    "    social = c2 * np.random.rand() * (global_best_position - particle.position)\n",
    "    return inertia + cognitive + social\n",
    "\n",
    "def particle_swarm_optimization(objective_function, bounds, n_particles=30, n_iterations=100, w=0.5, c1=1.5, c2=1.5):\n",
    "    \"\"\"-> The 'bounds' variable specifies the search space bounds for each dimension.\"\"\"\n",
    "    dim = len(bounds)\n",
    "    bounds = np.array(bounds)\n",
    "    global_best_position = None\n",
    "    global_best_score = float('inf')\n",
    "    particles = [Particle(dim, bounds) for _ in range(n_particles)]\n",
    "\n",
    "    for _ in range(n_iterations):\n",
    "        for particle in particles:\n",
    "            score = objective_function(particle.position)\n",
    "            if score < particle.best_score:\n",
    "                particle.best_score = score\n",
    "                particle.best_position = particle.position.copy()\n",
    "            if score < global_best_score:\n",
    "                global_best_score = score\n",
    "                global_best_position = particle.position.copy()\n",
    "\n",
    "        for particle in particles:\n",
    "            particle.velocity = update_velocity(particle, global_best_position, w, c1, c2)\n",
    "            particle.position += particle.velocity\n",
    "            # Check bounds\n",
    "            particle.position = np.clip(particle.position, bounds[:, 0], bounds[:, 1])\n",
    "\n",
    "    return global_best_position, global_best_score\n"
   ]
  },
  {
   "cell_type": "code",
   "execution_count": 3,
   "id": "a0392b82-c650-4e5a-ba90-594e284875a5",
   "metadata": {},
   "outputs": [],
   "source": [
    "def rosenbrock_function(x):\n",
    "    a = 1\n",
    "    b = 100\n",
    "    return sum(b * (x[1:] - x[:-1]**2)**2 + (a - x[:-1])**2)\n",
    "\n",
    "def sphere_function(x):\n",
    "    return np.sum(x**2)\n",
    "\n",
    "def booth_function(x):\n",
    "    if len(x) != 2:\n",
    "        raise ValueError(\"Booth function is only defined for 2 dimensions\")\n",
    "    return (x[0] + 2 * x[1] - 7)**2 + (2 * x[0] + x[1] - 5)**2\n",
    "    "
   ]
  },
  {
   "cell_type": "code",
   "execution_count": 4,
   "id": "e126e5e0-88a8-406f-a1e4-4e5a29d54f88",
   "metadata": {},
   "outputs": [
    {
     "name": "stdout",
     "output_type": "stream",
     "text": [
      "Best position: [1. 3.]\n",
      "Best score: 2.2223923528240232e-24\n"
     ]
    }
   ],
   "source": [
    "# Example usage for booth_function\n",
    "bounds = [(-10, 10), (-10, 10)]  # Example bounds for 2D optimization\n",
    "best_position, best_score = particle_swarm_optimization(booth_function, bounds)\n",
    "print(\"Best position:\", best_position)\n",
    "print(\"Best score:\", best_score)"
   ]
  },
  {
   "cell_type": "code",
   "execution_count": 5,
   "id": "2e52174b-7ebb-4266-8e55-9a3da25ee028",
   "metadata": {},
   "outputs": [
    {
     "name": "stdout",
     "output_type": "stream",
     "text": [
      "Best position: [ 4.25743078e-13 -7.48614082e-13]\n",
      "Best score: 7.416802120073682e-25\n"
     ]
    }
   ],
   "source": [
    "# Example usage for sphere_function\n",
    "bounds = [(-10, 10), (-10, 10)]  # Example bounds for 2D optimization\n",
    "best_position, best_score = particle_swarm_optimization(sphere_function, bounds)\n",
    "print(\"Best position:\", best_position)\n",
    "print(\"Best score:\", best_score)"
   ]
  },
  {
   "cell_type": "code",
   "execution_count": 6,
   "id": "fcde2891-f782-4802-b413-0abb9233b851",
   "metadata": {},
   "outputs": [
    {
     "name": "stdout",
     "output_type": "stream",
     "text": [
      "Best position: [1. 1.]\n",
      "Best score: 2.1590786716493368e-20\n"
     ]
    }
   ],
   "source": [
    "# Example usage for rosenbrock_function\n",
    "bounds = [(-10, 10), (-10, 10)]  # Example bounds for 2D optimization\n",
    "best_position, best_score = particle_swarm_optimization(rosenbrock_function, bounds)\n",
    "print(\"Best position:\", best_position)\n",
    "print(\"Best score:\", best_score)"
   ]
  }
 ],
 "metadata": {
  "kernelspec": {
   "display_name": "Python 3 (ipykernel)",
   "language": "python",
   "name": "python3"
  },
  "language_info": {
   "codemirror_mode": {
    "name": "ipython",
    "version": 3
   },
   "file_extension": ".py",
   "mimetype": "text/x-python",
   "name": "python",
   "nbconvert_exporter": "python",
   "pygments_lexer": "ipython3",
   "version": "3.12.2"
  }
 },
 "nbformat": 4,
 "nbformat_minor": 5
}
